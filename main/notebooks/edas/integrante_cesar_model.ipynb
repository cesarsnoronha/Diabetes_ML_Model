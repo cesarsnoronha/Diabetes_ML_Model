{
 "cells": [
  {
   "cell_type": "markdown",
   "metadata": {},
   "source": []
  },
  {
   "cell_type": "code",
   "execution_count": 1,
   "metadata": {},
   "outputs": [],
   "source": [
    "from sklearn.model_selection import train_test_split\n",
    "\n",
    "from sklearn.metrics import accuracy_score, precision_score, recall_score, f1_score, roc_auc_score\n",
    "from sklearn.metrics import r2_score, mean_absolute_error, mean_squared_error, max_error\n",
    "\n",
    "from sklearn.preprocessing import StandardScaler\n",
    "from sklearn.ensemble import RandomForestClassifier\n",
    "from sklearn.decomposition import PCA\n",
    "\n",
    "from sklearn.svm import SVR, SVC\n",
    "from sklearn.tree import DecisionTreeRegressor, DecisionTreeClassifier\n",
    "from sklearn.neighbors import KNeighborsRegressor, KNeighborsClassifier\n",
    "from sklearn.ensemble import RandomForestRegressor, RandomForestClassifier\n",
    "from sklearn.linear_model import LinearRegression, LogisticRegression\n",
    "\n",
    "from sklearn.pipeline import Pipeline\n",
    "\n",
    "\n",
    "import matplotlib.pyplot as plt\n",
    "import pandas as pd\n",
    "import numpy as np\n",
    "\n",
    "import pickle"
   ]
  },
  {
   "cell_type": "code",
   "execution_count": 3,
   "metadata": {},
   "outputs": [
    {
     "name": "stdout",
     "output_type": "stream",
     "text": [
      "/Users/Cesar-mac/Desktop/Projeto_dados/main/notebooks\n"
     ]
    }
   ],
   "source": [
    "#codigo para checar em que pasta estamos\n",
    "import os\n",
    "current_directory = os.getcwd()\n",
    "print(current_directory) \n",
    "#%pwd\n",
    "\n",
    "#os.chdir(\"Path to wherever your file is located\")"
   ]
  },
  {
   "cell_type": "code",
   "execution_count": 2,
   "metadata": {},
   "outputs": [],
   "source": [
    "pkl_file = open('../datasets/processed/diabetes_binary_5050split_health_indicators_BRFSS2015.pkl', 'rb')\n",
    "data = pickle.load(pkl_file)\n",
    "pkl_file.close()\n",
    "data.columns = data.columns.str.lower()\n",
    "\n",
    "features = data.drop(columns='diabetes_binary')\n",
    "target = data.diabetes_binary"
   ]
  },
  {
   "cell_type": "code",
   "execution_count": 21,
   "metadata": {},
   "outputs": [
    {
     "data": {
      "text/html": [
       "<div>\n",
       "<style scoped>\n",
       "    .dataframe tbody tr th:only-of-type {\n",
       "        vertical-align: middle;\n",
       "    }\n",
       "\n",
       "    .dataframe tbody tr th {\n",
       "        vertical-align: top;\n",
       "    }\n",
       "\n",
       "    .dataframe thead th {\n",
       "        text-align: right;\n",
       "    }\n",
       "</style>\n",
       "<table border=\"1\" class=\"dataframe\">\n",
       "  <thead>\n",
       "    <tr style=\"text-align: right;\">\n",
       "      <th></th>\n",
       "      <th>Diabetes_binary</th>\n",
       "      <th>HighBP</th>\n",
       "      <th>HighChol</th>\n",
       "      <th>CholCheck</th>\n",
       "      <th>BMI</th>\n",
       "      <th>Smoker</th>\n",
       "      <th>Stroke</th>\n",
       "      <th>HeartDiseaseorAttack</th>\n",
       "      <th>PhysActivity</th>\n",
       "      <th>Fruits</th>\n",
       "      <th>...</th>\n",
       "      <th>AnyHealthcare</th>\n",
       "      <th>NoDocbcCost</th>\n",
       "      <th>GenHlth</th>\n",
       "      <th>MentHlth</th>\n",
       "      <th>PhysHlth</th>\n",
       "      <th>DiffWalk</th>\n",
       "      <th>Sex</th>\n",
       "      <th>Age</th>\n",
       "      <th>Education</th>\n",
       "      <th>Income</th>\n",
       "    </tr>\n",
       "  </thead>\n",
       "  <tbody>\n",
       "    <tr>\n",
       "      <th>41631</th>\n",
       "      <td>1.0</td>\n",
       "      <td>0</td>\n",
       "      <td>0</td>\n",
       "      <td>1</td>\n",
       "      <td>29.0</td>\n",
       "      <td>1</td>\n",
       "      <td>1</td>\n",
       "      <td>0</td>\n",
       "      <td>0</td>\n",
       "      <td>1</td>\n",
       "      <td>...</td>\n",
       "      <td>1</td>\n",
       "      <td>0</td>\n",
       "      <td>3.0</td>\n",
       "      <td>0.0</td>\n",
       "      <td>0.0</td>\n",
       "      <td>0</td>\n",
       "      <td>0</td>\n",
       "      <td>8.0</td>\n",
       "      <td>6.0</td>\n",
       "      <td>7.0</td>\n",
       "    </tr>\n",
       "    <tr>\n",
       "      <th>31339</th>\n",
       "      <td>0.0</td>\n",
       "      <td>1</td>\n",
       "      <td>0</td>\n",
       "      <td>1</td>\n",
       "      <td>23.0</td>\n",
       "      <td>1</td>\n",
       "      <td>0</td>\n",
       "      <td>1</td>\n",
       "      <td>1</td>\n",
       "      <td>1</td>\n",
       "      <td>...</td>\n",
       "      <td>1</td>\n",
       "      <td>0</td>\n",
       "      <td>2.0</td>\n",
       "      <td>20.0</td>\n",
       "      <td>0.0</td>\n",
       "      <td>0</td>\n",
       "      <td>0</td>\n",
       "      <td>7.0</td>\n",
       "      <td>5.0</td>\n",
       "      <td>3.0</td>\n",
       "    </tr>\n",
       "    <tr>\n",
       "      <th>38742</th>\n",
       "      <td>1.0</td>\n",
       "      <td>1</td>\n",
       "      <td>0</td>\n",
       "      <td>1</td>\n",
       "      <td>36.0</td>\n",
       "      <td>1</td>\n",
       "      <td>0</td>\n",
       "      <td>0</td>\n",
       "      <td>1</td>\n",
       "      <td>1</td>\n",
       "      <td>...</td>\n",
       "      <td>1</td>\n",
       "      <td>0</td>\n",
       "      <td>3.0</td>\n",
       "      <td>0.0</td>\n",
       "      <td>0.0</td>\n",
       "      <td>0</td>\n",
       "      <td>0</td>\n",
       "      <td>11.0</td>\n",
       "      <td>5.0</td>\n",
       "      <td>4.0</td>\n",
       "    </tr>\n",
       "  </tbody>\n",
       "</table>\n",
       "<p>3 rows × 22 columns</p>\n",
       "</div>"
      ],
      "text/plain": [
       "       Diabetes_binary  HighBP  HighChol  CholCheck   BMI  Smoker  Stroke  \\\n",
       "41631              1.0       0         0          1  29.0       1       1   \n",
       "31339              0.0       1         0          1  23.0       1       0   \n",
       "38742              1.0       1         0          1  36.0       1       0   \n",
       "\n",
       "       HeartDiseaseorAttack  PhysActivity  Fruits  ...  AnyHealthcare  \\\n",
       "41631                     0             0       1  ...              1   \n",
       "31339                     1             1       1  ...              1   \n",
       "38742                     0             1       1  ...              1   \n",
       "\n",
       "       NoDocbcCost  GenHlth  MentHlth  PhysHlth  DiffWalk  Sex   Age  \\\n",
       "41631            0      3.0       0.0       0.0         0    0   8.0   \n",
       "31339            0      2.0      20.0       0.0         0    0   7.0   \n",
       "38742            0      3.0       0.0       0.0         0    0  11.0   \n",
       "\n",
       "       Education  Income  \n",
       "41631        6.0     7.0  \n",
       "31339        5.0     3.0  \n",
       "38742        5.0     4.0  \n",
       "\n",
       "[3 rows x 22 columns]"
      ]
     },
     "execution_count": 21,
     "metadata": {},
     "output_type": "execute_result"
    }
   ],
   "source": [
    "data.sample(3)"
   ]
  },
  {
   "cell_type": "code",
   "execution_count": 3,
   "metadata": {},
   "outputs": [],
   "source": [
    "train_x, test_x, train_y, test_y = train_test_split(features, target, test_size=0.4)"
   ]
  },
  {
   "cell_type": "code",
   "execution_count": 31,
   "metadata": {},
   "outputs": [
    {
     "data": {
      "text/plain": [
       "Index(['diabetes_binary', 'highbp', 'highchol', 'cholcheck', 'bmi', 'smoker',\n",
       "       'stroke', 'heartdiseaseorattack', 'physactivity', 'fruits', 'veggies',\n",
       "       'hvyalcoholconsump', 'anyhealthcare', 'nodocbccost', 'genhlth',\n",
       "       'menthlth', 'physhlth', 'diffwalk', 'sex', 'age', 'education',\n",
       "       'income'],\n",
       "      dtype='object')"
      ]
     },
     "execution_count": 31,
     "metadata": {},
     "output_type": "execute_result"
    }
   ],
   "source": [
    "data.columns"
   ]
  },
  {
   "cell_type": "code",
   "execution_count": 1,
   "metadata": {},
   "outputs": [
    {
     "ename": "NameError",
     "evalue": "name 'DecisionTreeClassifier' is not defined",
     "output_type": "error",
     "traceback": [
      "\u001b[0;31m---------------------------------------------------------------------------\u001b[0m",
      "\u001b[0;31mNameError\u001b[0m                                 Traceback (most recent call last)",
      "Cell \u001b[0;32mIn [1], line 3\u001b[0m\n\u001b[1;32m      1\u001b[0m \u001b[39m#SEM PCA\u001b[39;00m\n\u001b[1;32m      2\u001b[0m models \u001b[39m=\u001b[39m {\n\u001b[0;32m----> 3\u001b[0m     \u001b[39m\"\u001b[39m\u001b[39mDecision Tree\u001b[39m\u001b[39m\"\u001b[39m: DecisionTreeClassifier(),\n\u001b[1;32m      4\u001b[0m     \u001b[39m\"\u001b[39m\u001b[39mRandom Forest\u001b[39m\u001b[39m\"\u001b[39m: RandomForestClassifier(),\n\u001b[1;32m      5\u001b[0m     \u001b[39m\"\u001b[39m\u001b[39mK Neighbors\u001b[39m\u001b[39m\"\u001b[39m: KNeighborsClassifier(),\n\u001b[1;32m      6\u001b[0m     \u001b[39m\"\u001b[39m\u001b[39mLogistic Regression\u001b[39m\u001b[39m\"\u001b[39m: LogisticRegression(),\n\u001b[1;32m      7\u001b[0m     \u001b[39m\"\u001b[39m\u001b[39mSVM\u001b[39m\u001b[39m\"\u001b[39m: SVC(),\n\u001b[1;32m      8\u001b[0m }\n\u001b[1;32m     10\u001b[0m \u001b[39m#define como transforma cada coluna para poder rodar no modelo de ML\u001b[39;00m\n\u001b[1;32m     11\u001b[0m numeric_features \u001b[39m=\u001b[39m [\u001b[39m'\u001b[39m\u001b[39mbmi\u001b[39m\u001b[39m'\u001b[39m, \u001b[39m'\u001b[39m\u001b[39mgenhlth\u001b[39m\u001b[39m'\u001b[39m, \u001b[39m'\u001b[39m\u001b[39mmenthlth\u001b[39m\u001b[39m'\u001b[39m, \u001b[39m'\u001b[39m\u001b[39mage\u001b[39m\u001b[39m'\u001b[39m, \u001b[39m'\u001b[39m\u001b[39meducation\u001b[39m\u001b[39m'\u001b[39m, \u001b[39m'\u001b[39m\u001b[39mincome\u001b[39m\u001b[39m'\u001b[39m, \u001b[39m'\u001b[39m\u001b[39mphyshlth\u001b[39m\u001b[39m'\u001b[39m]\n",
      "\u001b[0;31mNameError\u001b[0m: name 'DecisionTreeClassifier' is not defined"
     ]
    }
   ],
   "source": [
    "#SEM PCA\n",
    "models = {\n",
    "    \"Decision Tree\": DecisionTreeClassifier(),\n",
    "    \"Random Forest\": RandomForestClassifier(),\n",
    "    \"K Neighbors\": KNeighborsClassifier(),\n",
    "    \"Logistic Regression\": LogisticRegression(),\n",
    "    \"SVM\": SVC(),\n",
    "}\n",
    "\n",
    "#define como transforma cada coluna para poder rodar no modelo de ML\n",
    "numeric_features = ['bmi', 'genhlth', 'menthlth', 'age', 'education', 'income', 'physhlth']\n",
    "numeric_transformer = SimpleImputer(strategy=\"median\")\n",
    "\n",
    "#Exemplo de transformar a coluna não numerica com ordem para intervalo valores.\n",
    "ordinal_features = [] #não acho que é ordinal\n",
    "ordinal_transformer = OrdinalEncoder()\n",
    "\n",
    "#Exemplo de transformar uma coluna sem ordem para numerica.\n",
    "categorical_features = ['highbp', 'highchol', 'cholcheck',  'smoker',\n",
    "    'stroke', 'heartdiseaseorattack', 'physactivity', 'fruits', 'veggies',\n",
    "    'hvyalcoholconsump', 'anyhealthcare', 'nodocbccost', 'diffwalk', 'sex']\n",
    "categorical_transformer = OneHotEncoder(handle_unknown=\"ignore\") #TODO\n",
    "\n",
    "#Cria o pipeline de transformações de coluna com as informações a cima\n",
    "preprocessor = ColumnTransformer(\n",
    "    transformers=[\n",
    "        (\"num\", numeric_transformer, numeric_features),\n",
    "        (\"le\", ordinal_transformer, ordinal_features),\n",
    "        (\"ohe\", categorical_transformer, categorical_features)\n",
    "    ]\n",
    ")\n",
    "\n",
    "#lista vazia\n",
    "scores = list()\n",
    "\n",
    "#para cada modelo normaliza, treina e testa com cada métrica adicionando à lista\n",
    "for model_name, model_obj in models.items():\n",
    "    model = Pipeline([\n",
    "        (\"preprocessor\", preprocessor), \n",
    "        ('scaler', StandardScaler()), #normalização\n",
    "        ('clf', model_obj) #modelo de ML\n",
    "    ])\n",
    "    model.fit(train_x, train_y) #treino\n",
    "    pred_y = model.predict(test_x) #previsão\n",
    "    # Testes:\n",
    "    scores.append({\n",
    "        \"model\": model_name,\n",
    "        \"accuracy_score\": accuracy_score(test_y, pred_y), \n",
    "        \"precision_score\": precision_score(test_y, pred_y), \n",
    "        \"recall_score\": recall_score(test_y, pred_y), \n",
    "        \"f1_score\": f1_score(test_y, pred_y), \n",
    "        \"roc_auc\": roc_auc_score(test_y, pred_y),\n",
    "    })\n",
    "\n",
    "pd.DataFrame(scores)"
   ]
  },
  {
   "cell_type": "code",
   "execution_count": 2,
   "metadata": {},
   "outputs": [
    {
     "ename": "IndentationError",
     "evalue": "unexpected indent (4104010519.py, line 2)",
     "output_type": "error",
     "traceback": [
      "\u001b[0;36m  Cell \u001b[0;32mIn [2], line 2\u001b[0;36m\u001b[0m\n\u001b[0;31m    \"Decision Tree\": DecisionTreeClassifier(),\u001b[0m\n\u001b[0m    ^\u001b[0m\n\u001b[0;31mIndentationError\u001b[0m\u001b[0;31m:\u001b[0m unexpected indent\n"
     ]
    }
   ],
   "source": [
    "# Com PCA\n",
    "models = {\n",
    "    \"Decision Tree\": DecisionTreeClassifier(),\n",
    "    \"Random Forest\": RandomForestClassifier(),\n",
    "    \"K Neighbors\": KNeighborsClassifier(),\n",
    "    \"Logistic Regression\": LogisticRegression(),\n",
    "    \"SVM\": SVC(),\n",
    "}\n",
    "\n",
    "#define como transforma cada coluna para poder rodar no modelo de ML\n",
    "numeric_features = ['bmi', 'genhlth', 'menthlth', 'age', 'education', 'income', 'physhlth']\n",
    "numeric_transformer = SimpleImputer(strategy=\"median\")\n",
    "\n",
    "#Exemplo de transformar a coluna não numerica com ordem para intervalo valores.\n",
    "ordinal_features = [] #não acho que é ordinal\n",
    "ordinal_transformer = OrdinalEncoder()\n",
    "\n",
    "#Exemplo de transformar uma coluna sem ordem para numerica.\n",
    "categorical_features = ['highbp', 'highchol', 'cholcheck',  'smoker',\n",
    "    'stroke', 'heartdiseaseorattack', 'physactivity', 'fruits', 'veggies',\n",
    "    'hvyalcoholconsump', 'anyhealthcare', 'nodocbccost', 'diffwalk', 'sex']\n",
    "categorical_transformer = OneHotEncoder(handle_unknown=\"ignore\")\n",
    "\n",
    "#Cria o pipeline de transformações de coluna com as informações a cima\n",
    "preprocessor = ColumnTransformer(\n",
    "    transformers=[\n",
    "        (\"num\", numeric_transformer, numeric_features),\n",
    "        (\"le\", ordinal_transformer, ordinal_features),\n",
    "        (\"ohe\", categorical_transformer, categorical_features)\n",
    "    ]\n",
    ")\n",
    "\n",
    "#lista vazia\n",
    "scores = list()\n",
    "\n",
    "#para cada modelo normaliza, treina e testa com cada métrica adicionando à lista\n",
    "for model_name, model_obj in models.items():\n",
    "    model = Pipeline([\n",
    "        (\"preprocessor\", preprocessor), \n",
    "        ('scaler', StandardScaler()), #normalização\n",
    "        (\"PCA\", PCA(n_components=.95)), #PCA\n",
    "        ('clf', model_obj) #modelo de ML\n",
    "    ])\n",
    "    model.fit(train_x, train_y) #treino\n",
    "    pred_y = model.predict(test_x) #previsão\n",
    "    # Testes:\n",
    "    scores.append({\n",
    "        \"model\": model_name,\n",
    "        \"accuracy_score\": accuracy_score(test_y, pred_y), \n",
    "        \"precision_score\": precision_score(test_y, pred_y), \n",
    "        \"recall_score\": recall_score(test_y, pred_y), \n",
    "        \"f1_score\": f1_score(test_y, pred_y), \n",
    "        \"roc_auc\": roc_auc_score(test_y, pred_y),\n",
    "    })\n",
    "\n",
    "pd.DataFrame(scores)"
   ]
  },
  {
   "cell_type": "code",
   "execution_count": null,
   "metadata": {},
   "outputs": [],
   "source": [
    "def create_model(algorithm):\n",
    "    #define como transforma cada coluna para poder rodar no modelo de ML\n",
    "    #define como transforma cada coluna para poder rodar no modelo de ML\n",
    "    numeric_features = ['bmi', 'genhlth', 'menthlth', 'age', 'education', 'income', 'physhlth']\n",
    "    numeric_transformer = SimpleImputer(strategy=\"median\")\n",
    "\n",
    "    #Exemplo de transformar a coluna não numerica com ordem para intervalo valores.\n",
    "    ordinal_features = [] #não acho que é ordinal\n",
    "    ordinal_transformer = OrdinalEncoder()\n",
    "\n",
    "    #Exemplo de transformar uma coluna sem ordem para numerica.\n",
    "    categorical_features = ['highbp', 'highchol', 'cholcheck',  'smoker',\n",
    "    'stroke', 'heartdiseaseorattack', 'physactivity', 'fruits', 'veggies',\n",
    "    'hvyalcoholconsump', 'anyhealthcare', 'nodocbccost', 'diffwalk', 'sex']\n",
    "    categorical_transformer = OneHotEncoder(handle_unknown=\"ignore\")\n",
    "    \n",
    "    #Cria o pipeline de transformações de coluna com as informações a cima\n",
    "    preprocessor = ColumnTransformer(\n",
    "        transformers=[\n",
    "            (\"num\", numeric_transformer, numeric_features),\n",
    "            (\"le\", ordinal_transformer, ordinal_features),\n",
    "            (\"ohe\", categorical_transformer, categorical_features)\n",
    "        ]\n",
    "    )\n",
    "    \n",
    "    #Execut o pipeline acima e tbm normaliza, roda PCA e um modelo (que a função recebe)\n",
    "    return Pipeline(\n",
    "        steps=[\n",
    "            (\"preprocessor\", preprocessor), \n",
    "            (\"scaler\", StandardScaler()), #normaliza\n",
    "            (\"PCA\", PCA(n_components=.95)), #PCA\n",
    "            (\"classifier\", algorithm) #Modelo (que a função recebe)\n",
    "        ]\n",
    "    )"
   ]
  },
  {
   "cell_type": "code",
   "execution_count": 45,
   "metadata": {},
   "outputs": [
    {
     "data": {
      "text/plain": [
       "{'classifier__class_weight': None,\n",
       " 'classifier__criterion': 'log_loss',\n",
       " 'classifier__max_depth': 7,\n",
       " 'classifier__min_samples_leaf': 5,\n",
       " 'classifier__min_samples_split': 6,\n",
       " 'classifier__splitter': 'best'}"
      ]
     },
     "execution_count": 45,
     "metadata": {},
     "output_type": "execute_result"
    }
   ],
   "source": [
    "#grid search\n",
    "\n",
    "from sklearn.model_selection import GridSearchCV\n",
    "\n",
    "param_grid = {\n",
    "    'classifier__criterion':['gini', 'entropy', 'log_loss'],\n",
    "    'classifier__splitter': ['best', 'random'],\n",
    "    'classifier__max_depth': np.arange(3, 12),\n",
    "    'classifier__min_samples_split': [2, 4, 6],\n",
    "    'classifier__min_samples_leaf': [1, 3, 5],\n",
    "    'classifier__class_weight': [None, 'balanced']\n",
    "}\n",
    "dtree_gscv = GridSearchCV(create_model(DecisionTreeClassifier()), param_grid, scoring='roc_auc', cv=5)\n",
    "dtree_gscv.fit(features, target)\n",
    "dtree_gscv.best_params_"
   ]
  },
  {
   "cell_type": "markdown",
   "metadata": {},
   "source": [
    "{'classifier__class_weight': None,\n",
    " 'classifier__criterion': 'log_loss',\n",
    " 'classifier__max_depth': 7,\n",
    " 'classifier__min_samples_leaf': 5,\n",
    " 'classifier__min_samples_split': 6,\n",
    " 'classifier__splitter': 'best'}\n",
    "\n",
    " tempo = 111m"
   ]
  },
  {
   "cell_type": "code",
   "execution_count": 4,
   "metadata": {},
   "outputs": [],
   "source": [
    "from sklearn.model_selection import GridSearchCV\n",
    "param_grid = {'C': [0.1,1, 10, 100], 'gamma': [0.1,0.01,0.001],'kernel': ['rbf']}\n",
    "grid = GridSearchCV(SVC(), param_grid, scoring='roc_auc', cv=5)\n",
    "grid.fit(features, target)\n",
    "print(grid.best_estimator_)"
   ]
  },
  {
   "cell_type": "code",
   "execution_count": null,
   "metadata": {},
   "outputs": [],
   "source": []
  }
 ],
 "metadata": {
  "kernelspec": {
   "display_name": "Python 3.10.6 ('.grupo-00-venv')",
   "language": "python",
   "name": "python3"
  },
  "language_info": {
   "codemirror_mode": {
    "name": "ipython",
    "version": 3
   },
   "file_extension": ".py",
   "mimetype": "text/x-python",
   "name": "python",
   "nbconvert_exporter": "python",
   "pygments_lexer": "ipython3",
   "version": "3.10.6"
  },
  "orig_nbformat": 4,
  "vscode": {
   "interpreter": {
    "hash": "6f1318e638b9cbbe3c991cfb5c8613abc75e68632b4ccc96c61b62564765eb52"
   }
  }
 },
 "nbformat": 4,
 "nbformat_minor": 2
}
